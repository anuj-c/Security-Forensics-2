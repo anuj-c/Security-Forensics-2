{
 "cells": [
  {
   "cell_type": "code",
   "execution_count": 345,
   "metadata": {},
   "outputs": [],
   "source": [
    "import cv2\n",
    "import numpy as np\n",
    "import random"
   ]
  },
  {
   "cell_type": "code",
   "execution_count": 346,
   "metadata": {},
   "outputs": [],
   "source": [
    "image = cv2.imread('Cover_1.png', cv2.IMREAD_UNCHANGED)\n",
    "\n",
    "bnw = False\n",
    "if len(image.shape) == 2:\n",
    "  bnw = True\n",
    "else:\n",
    "  bnw = False\n",
    "\n",
    "r = len(image)\n",
    "c = len(image[0])\n",
    "z = 1\n",
    "if not bnw:\n",
    "  z = len(image[0][0])"
   ]
  },
  {
   "cell_type": "code",
   "execution_count": 348,
   "metadata": {},
   "outputs": [],
   "source": [
    "def getPSNR(original, decoded):\n",
    "  mse = np.mean((original - decoded) ** 2)\n",
    "  print(\"MSE:\", mse)\n",
    "  l_value = 255\n",
    "  if mse == 0:\n",
    "    return 100\n",
    "  psnr = 20 * np.log10((l_value - 1) / np.sqrt(mse))\n",
    "  return psnr"
   ]
  },
  {
   "cell_type": "code",
   "execution_count": 356,
   "metadata": {},
   "outputs": [
    {
     "name": "stdout",
     "output_type": "stream",
     "text": [
      "54 145 50\n"
     ]
    }
   ],
   "source": [
    "key = input(\"Enter the key:\")\n",
    "a = key[:len(key)//3]\n",
    "a = int(a) % len(image)\n",
    "b = key[len(key)//3:2*len(key)//3]\n",
    "b = int(b) % len(image[0])\n",
    "step = key[2*len(key)//3:]\n",
    "step = int(step) % 50 + 1\n",
    "# a = random.randint(0, 127)\n",
    "# b = random.randint(0, 127)\n",
    "# step = random.randint(1, 50)\n",
    "message = input(\"Enter the message:\")\n",
    "message += \"\\0\"\n",
    "msgInBinary = ''.join(format(ord(i), '08b') for i in message)"
   ]
  },
  {
   "cell_type": "code",
   "execution_count": 350,
   "metadata": {},
   "outputs": [
    {
     "name": "stdout",
     "output_type": "stream",
     "text": [
      "30\n",
      "Message hidden successfully\n"
     ]
    }
   ],
   "source": [
    "strIndex = 0\n",
    "random.seed(step)\n",
    "curRandom = random.randint(1,50)\n",
    "print(curRandom)\n",
    "i=a\n",
    "j=b\n",
    "while i < r:\n",
    "    for k in range(z):\n",
    "        if strIndex >= len(msgInBinary) or i >= r:\n",
    "            break\n",
    "        else:\n",
    "            if bnw:\n",
    "                image[i,j] = int(bin(image[i,j])[:-1] + msgInBinary[strIndex], 2)\n",
    "            else:\n",
    "                image[i,j,k] = int(bin(image[i,j,k])[:-1] + msgInBinary[strIndex], 2)\n",
    "            strIndex += 1\n",
    "            j += curRandom\n",
    "            if j >= c:\n",
    "                j = j % c\n",
    "                i += 1\n",
    "            random.seed(curRandom)\n",
    "            curRandom = random.randint(1,50)\n",
    "    if strIndex >= len(msgInBinary) or i >= r:\n",
    "        break\n",
    "\n",
    "if(strIndex < len(msgInBinary)):\n",
    "    print(\"Message too long to hide in image\")\n",
    "else:\n",
    "    print(\"Message hidden successfully\")\n",
    "    cv2.imwrite('res.png', image)"
   ]
  },
  {
   "cell_type": "code",
   "execution_count": 351,
   "metadata": {},
   "outputs": [],
   "source": [
    "image2 = cv2.imread('res.png', cv2.IMREAD_UNCHANGED)\n",
    "image = cv2.imread('Cover_1.png', cv2.IMREAD_UNCHANGED)"
   ]
  },
  {
   "cell_type": "code",
   "execution_count": 352,
   "metadata": {},
   "outputs": [
    {
     "name": "stdout",
     "output_type": "stream",
     "text": [
      "Decoded message: hello world\n"
     ]
    }
   ],
   "source": [
    "decodedMsg = \"\"\n",
    "random.seed(step)\n",
    "curRandom = random.randint(1,50)\n",
    "i = a\n",
    "j = b\n",
    "cur = 0\n",
    "curChar = \"\"\n",
    "while i < r:\n",
    "    for k in range(z):\n",
    "        if i >= r:\n",
    "            break\n",
    "        if bnw:\n",
    "            curChar += bin(image2[i,j])[-1]\n",
    "        else:\n",
    "            curChar += bin(image2[i,j,k])[-1]\n",
    "        j += curRandom\n",
    "        if j >= c:\n",
    "            j = j % c\n",
    "            i += 1\n",
    "        random.seed(curRandom)\n",
    "        curRandom = random.randint(1,50)\n",
    "        if len(curChar) == 8:\n",
    "            if chr(int(curChar, 2)) == '\\0':\n",
    "                break\n",
    "            else:\n",
    "                decodedMsg += chr(int(curChar, 2))\n",
    "                curChar = \"\"\n",
    "    if len(curChar) == 8 or i >= r:\n",
    "        break\n",
    "print(\"Decoded message:\", decodedMsg)"
   ]
  },
  {
   "cell_type": "code",
   "execution_count": 353,
   "metadata": {},
   "outputs": [
    {
     "name": "stdout",
     "output_type": "stream",
     "text": [
      "MSE: 0.00067138671875\n",
      "PSNR: 79.82694687377388\n"
     ]
    }
   ],
   "source": [
    "psnr = getPSNR(image, image2)\n",
    "print(\"PSNR:\", psnr)"
   ]
  }
 ],
 "metadata": {
  "kernelspec": {
   "display_name": "Python 3",
   "language": "python",
   "name": "python3"
  },
  "language_info": {
   "codemirror_mode": {
    "name": "ipython",
    "version": 3
   },
   "file_extension": ".py",
   "mimetype": "text/x-python",
   "name": "python",
   "nbconvert_exporter": "python",
   "pygments_lexer": "ipython3",
   "version": "3.10.6 (main, Nov 14 2022, 16:10:14) [GCC 11.3.0]"
  },
  "orig_nbformat": 4,
  "vscode": {
   "interpreter": {
    "hash": "916dbcbb3f70747c44a77c7bcd40155683ae19c65e1c03b4aa3499c5328201f1"
   }
  }
 },
 "nbformat": 4,
 "nbformat_minor": 2
}
