{
 "cells": [
  {
   "cell_type": "code",
   "execution_count": 1,
   "metadata": {},
   "outputs": [],
   "source": [
    "import numpy as np\n",
    "import matplotlib.pyplot as plt\n",
    "import cv2"
   ]
  },
  {
   "attachments": {},
   "cell_type": "markdown",
   "metadata": {},
   "source": [
    "### Defining variables\n"
   ]
  },
  {
   "cell_type": "code",
   "execution_count": 2,
   "metadata": {},
   "outputs": [],
   "source": [
    "h = np.array([1, -3, 3, -1])\n",
    "t = 2\n",
    "q = 3\n",
    "n = 4\n",
    "\n",
    "window_size = (128, 128)\n",
    "step_size = 8"
   ]
  },
  {
   "attachments": {},
   "cell_type": "markdown",
   "metadata": {},
   "source": [
    "### Loading video\n"
   ]
  },
  {
   "cell_type": "code",
   "execution_count": 3,
   "metadata": {},
   "outputs": [
    {
     "name": "stdout",
     "output_type": "stream",
     "text": [
      "Video shape: 768x576x30x390\n",
      "Forged video shape: 768x576x25x334\n"
     ]
    }
   ],
   "source": [
    "video = cv2.VideoCapture('videos/original(Video-2).avi')\n",
    "\n",
    "width = int(video.get(cv2.CAP_PROP_FRAME_WIDTH))\n",
    "height = int(video.get(cv2.CAP_PROP_FRAME_HEIGHT))\n",
    "fps = int(video.get(cv2.CAP_PROP_FPS))\n",
    "frames = int(video.get(cv2.CAP_PROP_FRAME_COUNT))\n",
    "print('Video shape: {}x{}x{}x{}'.format(width, height, fps, frames))\n",
    "\n",
    "forgedVideo = cv2.VideoCapture('videos/forged(Video-2)-1.avi')\n",
    "\n",
    "fwidth = int(forgedVideo.get(cv2.CAP_PROP_FRAME_WIDTH))\n",
    "fheight = int(forgedVideo.get(cv2.CAP_PROP_FRAME_HEIGHT))\n",
    "ffps = int(forgedVideo.get(cv2.CAP_PROP_FPS))\n",
    "fframes = int(forgedVideo.get(cv2.CAP_PROP_FRAME_COUNT))\n",
    "print('Forged video shape: {}x{}x{}x{}'.format(fwidth, fheight, ffps, fframes))"
   ]
  },
  {
   "attachments": {},
   "cell_type": "markdown",
   "metadata": {},
   "source": [
    "### Play the video\n"
   ]
  },
  {
   "cell_type": "code",
   "execution_count": null,
   "metadata": {},
   "outputs": [],
   "source": [
    "while True:\n",
    "  ret, frame = video.read()\n",
    "  if not ret:\n",
    "    break\n",
    "  cv2.imshow('frame', frame)\n",
    "  if cv2.waitKey(1000//fps) & 0xFF == ord('q'):\n",
    "    break\n",
    "\n",
    "cv2.destroyAllWindows()\n",
    "video.set(cv2.CAP_PROP_POS_FRAMES, 0)"
   ]
  },
  {
   "attachments": {},
   "cell_type": "markdown",
   "metadata": {},
   "source": [
    "### Play forged video\n"
   ]
  },
  {
   "cell_type": "code",
   "execution_count": 8,
   "metadata": {},
   "outputs": [
    {
     "data": {
      "text/plain": [
       "True"
      ]
     },
     "execution_count": 8,
     "metadata": {},
     "output_type": "execute_result"
    }
   ],
   "source": [
    "while True:\n",
    "  ret, frame = forgedVideo.read()\n",
    "  if not ret:\n",
    "    break\n",
    "  cv2.imshow('frame', frame)\n",
    "  if cv2.waitKey(1000//fps) & 0xFF == ord('q'):\n",
    "    break\n",
    "\n",
    "cv2.destroyAllWindows()\n",
    "forgedVideo.set(cv2.CAP_PROP_POS_FRAMES, 0)"
   ]
  },
  {
   "attachments": {},
   "cell_type": "markdown",
   "metadata": {},
   "source": [
    "### Storing the video frames in an array\n"
   ]
  },
  {
   "cell_type": "code",
   "execution_count": 4,
   "metadata": {},
   "outputs": [
    {
     "name": "stdout",
     "output_type": "stream",
     "text": [
      "(390, 576, 768, 3)\n",
      "(334, 576, 768, 3)\n"
     ]
    }
   ],
   "source": [
    "videoFrames = []\n",
    "while True:\n",
    "  ret, frame = video.read()\n",
    "  if not ret:\n",
    "    break\n",
    "  videoFrames.append(frame)\n",
    "\n",
    "videoFrames = np.array(videoFrames)\n",
    "print(videoFrames.shape)\n",
    "\n",
    "fvideoFrames = []\n",
    "while True:\n",
    "  ret, frame = forgedVideo.read()\n",
    "  if not ret:\n",
    "    break\n",
    "  fvideoFrames.append(frame)\n",
    "\n",
    "fvideoFrames = np.array(fvideoFrames)\n",
    "print(fvideoFrames.shape)"
   ]
  },
  {
   "attachments": {},
   "cell_type": "markdown",
   "metadata": {},
   "source": [
    "### Play video using videoFrames\n"
   ]
  },
  {
   "cell_type": "code",
   "execution_count": null,
   "metadata": {},
   "outputs": [],
   "source": [
    "for i in range(videoFrames.shape[0]):\n",
    "  print(i)\n",
    "  cv2.imshow('frame', videoFrames[i, :, :, :])\n",
    "  if cv2.waitKey(1000//fps) & 0xFF == ord('q'):\n",
    "    break\n",
    "    \n",
    "cv2.destroyAllWindows()\n",
    "video.set(cv2.CAP_PROP_POS_FRAMES, 0)"
   ]
  },
  {
   "attachments": {},
   "cell_type": "markdown",
   "metadata": {},
   "source": [
    "### Co-occurence matrix\n"
   ]
  },
  {
   "cell_type": "code",
   "execution_count": 5,
   "metadata": {},
   "outputs": [],
   "source": [
    "def cooc_matrix_row(residual):\n",
    "  co_occurrence_matrix = np.zeros((1,625))\n",
    "  for i in range(residual.shape[0]):\n",
    "    for j in range(residual.shape[1]-4):\n",
    "      key1 = (2+residual[i,j])*125 + (2+residual[i,j+1])*25 + (2+residual[i,j+2])*5 + (2+residual[i,j+3])\n",
    "      key2 = (2+residual[i,j+3])*125 + (2+residual[i,j+2])*25 + (2+residual[i,j+1])*5 + (2+residual[i,j])\n",
    "      key = min(key1, key2).astype(int)\n",
    "      co_occurrence_matrix[0,key] += 1\n",
    "  return co_occurrence_matrix\n",
    "\n",
    "def cooc_matrix_col(residual):\n",
    "  co_occurrence_matrix = np.zeros((1,625))\n",
    "  for i in range(residual.shape[0]-4):\n",
    "    for j in range(residual.shape[1]):\n",
    "      key1 = (2+residual[i,j])*125 + (2+residual[i+1,j])*25 + (2+residual[i+2,j])*5 + (2+residual[i+3,j])\n",
    "      key2 = (2+residual[i+3,j])*125 + (2+residual[i+2,j])*25 + (2+residual[i+1,j])*5 + (2+residual[i,j])\n",
    "      key = min(key1, key2).astype(int)\n",
    "      co_occurrence_matrix[0,key] += 1\n",
    "  return co_occurrence_matrix\n",
    "\n",
    "def cooc_matrix_tem(residual):\n",
    "  cooc_temp = []\n",
    "  for i in range(residual.shape[0]-4):\n",
    "    co_occurrence_matrix = np.zeros((1,625))\n",
    "    for j in range(residual.shape[1]):\n",
    "      for k in range(residual.shape[2]):\n",
    "        key1 = (2+residual[i,j,k])*125 + (2+residual[i+1,j,k])*25 + (2+residual[i+2,j,k])*5 + (2+residual[i+3,j,k])\n",
    "        key2 = (2+residual[i+3,j,k])*125 + (2+residual[i+2,j,k])*25 + (2+residual[i+1,j,k])*5 + (2+residual[i,j,k])\n",
    "        key = min(key1, key2).astype(int)\n",
    "        co_occurrence_matrix[0,key] += 1\n",
    "    cooc_temp.append(co_occurrence_matrix)\n",
    "  co_occurrence_matrix = np.zeros((1,625))\n",
    "  for i in range(4):\n",
    "    cooc_temp.append(co_occurrence_matrix)\n",
    "  return cooc_temp"
   ]
  },
  {
   "attachments": {},
   "cell_type": "markdown",
   "metadata": {},
   "source": [
    "### compute_descriptor()\n"
   ]
  },
  {
   "cell_type": "code",
   "execution_count": 6,
   "metadata": {},
   "outputs": [],
   "source": [
    "def compute_descriptor_row(residual):\n",
    "  cooc = []\n",
    "  for i in range(residual.shape[0]):\n",
    "    cooc.append(cooc_matrix_row(residual[i]))\n",
    "  cooc = np.array(cooc)\n",
    "  print(\"Row co-occurrence computed\")\n",
    "  return cooc\n",
    "\n",
    "def compute_descriptor_col(residual):\n",
    "  cooc = []\n",
    "  for i in range(residual.shape[0]):\n",
    "    cooc.append(cooc_matrix_col(residual[i]))\n",
    "  cooc = np.array(cooc)\n",
    "  print(\"Col co-occurrence computed\")\n",
    "  return cooc\n",
    "\n",
    "def compute_descriptor_tem(residual):\n",
    "  cooc_tem = cooc_matrix_tem(residual)\n",
    "  cooc_tem = np.array(cooc_tem)\n",
    "  print(\"Temporal co-occurrence computed\")\n",
    "  return cooc_tem\n",
    "\n",
    "def compute_residuals(videoFrames):\n",
    "  videoGrayScale = np.zeros((videoFrames.shape[0], videoFrames.shape[1], videoFrames.shape[2]))\n",
    "  for i in range(videoFrames.shape[0]):\n",
    "    videoGrayScale[i] = cv2.cvtColor(videoFrames[i], cv2.COLOR_BGR2GRAY)\n",
    "  print(\"Video converted to grascale\")\n",
    "  \n",
    "  row_resid = np.apply_along_axis(lambda x: np.convolve(x, h, mode='same'), 2, videoGrayScale)\n",
    "  col_resid = np.apply_along_axis(lambda x: np.convolve(x, h, mode='same'), 1, videoGrayScale)\n",
    "  temp_resid = np.apply_along_axis(lambda x: np.convolve(x, h, mode='same'), 0, videoGrayScale)\n",
    "\n",
    "  row_resid = np.minimum(t, np.maximum(-t, np.floor(row_resid/q)))\n",
    "  col_resid = np.minimum(t, np.maximum(-t, np.floor(col_resid/q)))\n",
    "  temp_resid = np.minimum(t, np.maximum(-t, np.floor(temp_resid/q)))\n",
    "  print(\"Residual computed\")\n",
    "\n",
    "  return row_resid, col_resid, temp_resid"
   ]
  },
  {
   "attachments": {},
   "cell_type": "markdown",
   "metadata": {},
   "source": [
    "### Finding residual of whole video\n"
   ]
  },
  {
   "cell_type": "code",
   "execution_count": 7,
   "metadata": {},
   "outputs": [
    {
     "name": "stdout",
     "output_type": "stream",
     "text": [
      "Video converted to grascale\n"
     ]
    }
   ],
   "source": [
    "resids = compute_residuals(videoFrames)"
   ]
  },
  {
   "cell_type": "code",
   "execution_count": null,
   "metadata": {},
   "outputs": [],
   "source": [
    "cooc_row = compute_descriptor_row(resids[0])"
   ]
  },
  {
   "cell_type": "code",
   "execution_count": null,
   "metadata": {},
   "outputs": [],
   "source": [
    "cooc_col = compute_descriptor_col(resids[1])"
   ]
  },
  {
   "cell_type": "code",
   "execution_count": null,
   "metadata": {},
   "outputs": [],
   "source": [
    "cooc_tem = compute_descriptor_tem(resids[2])"
   ]
  },
  {
   "cell_type": "code",
   "execution_count": 8,
   "metadata": {},
   "outputs": [
    {
     "name": "stdout",
     "output_type": "stream",
     "text": [
      "Video converted to grascale\n",
      "Residual computed\n",
      "Row co-occurrence computed\n",
      "Col co-occurrence computed\n",
      "Temporal co-occurrence computed\n"
     ]
    }
   ],
   "source": [
    "forged_resids = compute_residuals(fvideoFrames)\n",
    "forged_cooc_row = compute_descriptor_row(forged_resids[0])\n",
    "forged_cooc_col = compute_descriptor_col(forged_resids[1])\n",
    "forged_cooc_tem = compute_descriptor_tem(forged_resids[2])"
   ]
  },
  {
   "cell_type": "code",
   "execution_count": null,
   "metadata": {},
   "outputs": [],
   "source": [
    "coocc_matrix = np.concatenate((cooc_row, cooc_col, cooc_tem), axis=1)\n",
    "# coocc_matrix = np.reshape(coocc_matrix, (313, 3, 625))\n",
    "print(coocc_matrix.shape)"
   ]
  },
  {
   "cell_type": "code",
   "execution_count": 10,
   "metadata": {},
   "outputs": [
    {
     "name": "stdout",
     "output_type": "stream",
     "text": [
      "(313, 3, 625)\n"
     ]
    }
   ],
   "source": [
    "forged_cooc_mat = np.concatenate((forged_cooc_row, forged_cooc_col, forged_cooc_tem), axis=1)\n",
    "# forged_cooc_mat = np.reshape(forged_cooc_mat, (313, 3, 625))\n",
    "print(forged_cooc_mat.shape)"
   ]
  },
  {
   "attachments": {},
   "cell_type": "markdown",
   "metadata": {},
   "source": [
    "### Mahalanobis distance"
   ]
  },
  {
   "cell_type": "code",
   "execution_count": 11,
   "metadata": {},
   "outputs": [],
   "source": [
    "def findMean(descriptors):\n",
    "  sum = np.apply_along_axis(lambda x: np.sum(x), 0, descriptors)\n",
    "  mean = sum/descriptors.shape[0]\n",
    "  return mean\n",
    "\n",
    "def findCovariance(descriptors, mean):\n",
    "  covariance = np.zeros((3, 3))\n",
    "  for i in range(descriptors.shape[0]):\n",
    "    covariance += np.matmul((descriptors[i]-mean), (descriptors[i]-mean).T)\n",
    "  covariance /= descriptors.shape[0]\n",
    "  return covariance\n",
    "\n",
    "def findMahalanobisDistance(descriptors, mean, covariance):\n",
    "  mahalanobis_distance = np.zeros((descriptors.shape[0], 625, 625))\n",
    "  for i in range(descriptors.shape[0]):\n",
    "    mahalanobis_distance[i] = np.sqrt(np.abs(np.matmul(np.matmul((descriptors[i]-mean).T, np.linalg.inv(covariance)), (descriptors[i]-mean))))\n",
    "  return mahalanobis_distance"
   ]
  },
  {
   "cell_type": "code",
   "execution_count": 12,
   "metadata": {},
   "outputs": [
    {
     "name": "stdout",
     "output_type": "stream",
     "text": [
      "Mean : (3, 625)\n",
      "Covariance : (3, 3)\n",
      "Mahalanobis Distance : (313, 625, 625)\n",
      "Forged Mahalanobis Distance : (313, 625, 625)\n"
     ]
    }
   ],
   "source": [
    "mean = findMean(coocc_matrix)\n",
    "print(\"Mean : {}\".format(mean.shape))\n",
    "covariance = findCovariance(coocc_matrix, mean)\n",
    "print(\"Covariance : {}\".format(covariance.shape))\n",
    "mahalanobis_dist = findMahalanobisDistance(coocc_matrix, mean, covariance)\n",
    "print(\"Mahalanobis Distance : {}\".format(mahalanobis_dist.shape))\n",
    "forged_maha_dist = findMahalanobisDistance(forged_cooc_mat, mean, covariance)\n",
    "print(\"Forged Mahalanobis Distance : {}\".format(forged_maha_dist.shape))"
   ]
  },
  {
   "cell_type": "code",
   "execution_count": 13,
   "metadata": {},
   "outputs": [
    {
     "name": "stdout",
     "output_type": "stream",
     "text": [
      "(313, 625, 625)\n"
     ]
    }
   ],
   "source": [
    "diff = np.abs(mahalanobis_dist - forged_maha_dist)\n",
    "print(diff.shape)"
   ]
  },
  {
   "cell_type": "code",
   "execution_count": 15,
   "metadata": {},
   "outputs": [
    {
     "name": "stdout",
     "output_type": "stream",
     "text": [
      "(313, 240, 320)\n"
     ]
    }
   ],
   "source": [
    "print(resids[0].shape)"
   ]
  },
  {
   "cell_type": "code",
   "execution_count": 51,
   "metadata": {},
   "outputs": [
    {
     "name": "stdout",
     "output_type": "stream",
     "text": [
      "0.14747940719222627\n"
     ]
    }
   ],
   "source": [
    "max_dist = np.max(diff[290])\n",
    "print(max_dist)"
   ]
  },
  {
   "cell_type": "code",
   "execution_count": null,
   "metadata": {},
   "outputs": [],
   "source": [
    "for i in range(227, 313):\n",
    "  print(\"Frame : {}\".format(i))\n",
    "  cv2.imshow(\"Original\", videoFrames[i])\n",
    "  cv2.imshow(\"Forged\", fvideoFrames[i])\n",
    "  if cv2.waitKey(0) & 0xFF == ord('q'):\n",
    "    break\n",
    "  \n",
    "cv2.destroyAllWindows()"
   ]
  },
  {
   "cell_type": "code",
   "execution_count": 62,
   "metadata": {},
   "outputs": [
    {
     "name": "stdout",
     "output_type": "stream",
     "text": [
      "227 0.007526474494322707\n",
      "228 0.03757291966411663\n",
      "229 0.059131904571378895\n",
      "230 0.06742122996661984\n",
      "231 0.10167583481800245\n",
      "232 0.19912355317987365\n",
      "233 0.39972682005198423\n",
      "234 0.33375899152994376\n",
      "235 0.458925507594269\n",
      "236 0.5655428529194899\n",
      "237 0.43669445941966284\n",
      "238 0.39663752257504503\n",
      "239 0.2996999296411638\n",
      "240 0.6326302235266361\n",
      "241 1.0097755589350172\n",
      "242 1.2415536189106835\n",
      "243 1.4817450327865935\n",
      "244 1.241650540494335\n",
      "245 0.7852302618787892\n",
      "246 1.0173464791376774\n",
      "247 0.7161077961080983\n",
      "248 1.0404571840457946\n",
      "249 0.9165493845297124\n",
      "250 1.0108232845611482\n",
      "251 0.9779816734634458\n",
      "252 0.862727849070501\n",
      "253 0.3611532007765331\n",
      "254 0.6103204317499564\n",
      "255 0.9895589191759165\n",
      "256 0.8130126398717583\n",
      "257 0.5570919852879506\n",
      "258 0.18973098373464575\n",
      "259 0.2078290527818672\n",
      "260 0.2542297086749614\n",
      "261 0.25319414598980206\n",
      "262 0.21676125232516574\n",
      "263 0.2868987835130467\n",
      "264 0.31916128080095857\n",
      "265 0.3538889698564535\n",
      "266 0.3094299563865389\n",
      "267 0.3082667564673973\n",
      "268 0.347179038474143\n",
      "269 0.368385265102286\n",
      "270 0.29067422098204526\n",
      "271 0.15972517546040035\n",
      "272 0.3063912249839559\n",
      "273 0.23763229092638888\n",
      "274 0.2839943320198312\n",
      "275 0.14847085327547668\n",
      "276 0.23392851725910896\n",
      "277 0.20528390167749883\n",
      "278 0.16841675370156883\n",
      "279 0.24287103065677657\n",
      "280 0.16970041989398163\n",
      "281 0.18509700176461918\n",
      "282 0.23267567605016237\n",
      "283 0.16835689011187138\n",
      "284 0.16759945256570163\n",
      "285 0.14926726873693374\n",
      "286 0.1446295552921682\n",
      "287 0.09848341136954447\n",
      "288 0.17289259129751866\n",
      "289 0.16339924099871525\n",
      "290 0.14747940719222627\n",
      "291 0.10600353287927955\n",
      "292 0.12217825550368677\n",
      "293 0.16170403089916224\n",
      "294 0.14545722883962875\n",
      "295 0.19602626874926082\n",
      "296 0.12945547861927142\n",
      "297 0.09816979381123303\n",
      "298 0.09129508386935406\n",
      "299 0.10997924470407039\n",
      "300 0.1449544249779251\n",
      "301 0.09773734704020061\n",
      "302 0.11014402798827205\n",
      "303 0.08825415869972454\n",
      "304 0.11265045436111891\n",
      "305 0.1312745719366592\n",
      "306 0.11741883997938572\n",
      "307 0.12084461360223799\n",
      "308 0.22858194270582446\n",
      "309 0.12074641760954187\n",
      "310 0.1150071348570783\n",
      "311 0.13792503966087116\n",
      "312 0.14846927605755697\n"
     ]
    }
   ],
   "source": [
    "start = 0\n",
    "for i in range(diff.shape[0]):\n",
    "  if np.max(diff[i]) > 0:\n",
    "    print(i, np.max(diff[i]))"
   ]
  },
  {
   "cell_type": "code",
   "execution_count": 58,
   "metadata": {},
   "outputs": [
    {
     "name": "stdout",
     "output_type": "stream",
     "text": [
      "(104, 104)\n"
     ]
    }
   ],
   "source": [
    "# get position of max value in diff[240]\n",
    "max_pos = np.unravel_index(np.argmax(diff[241], axis=None), diff[241].shape)\n",
    "print(max_pos)"
   ]
  },
  {
   "cell_type": "code",
   "execution_count": 59,
   "metadata": {},
   "outputs": [
    {
     "name": "stdout",
     "output_type": "stream",
     "text": [
      "1.0097755589350172\n"
     ]
    }
   ],
   "source": [
    "print(diff[241][max_pos[0]][max_pos[1]])"
   ]
  },
  {
   "cell_type": "code",
   "execution_count": null,
   "metadata": {},
   "outputs": [],
   "source": [
    "def generateHeatMap(frame1, frame2, fr_num):\n",
    "  new_frame = np.zeros((frame1.shape[0], frame1.shape[1]-4))\n",
    "  for i in range(frame1.shape[0]):\n",
    "    for j in range(frame1.shape[1]-4):\n",
    "      val1 = frame1[i,j:j+4]\n",
    "      val2 = frame2[i,j:j+4]\n",
    "      key1 = (2+val1[0])*125 + (2+val1[1])*25 + (2+val1[2])*5 + (2+val1[3])\n",
    "      key2 = (2+val1[3])*125 + (2+val1[2])*25 + (2+val1[1])*5 + (2+val1[0])\n",
    "      k1 = int(min(key1, key2))\n",
    "      key1 = (2+val2[0])*125 + (2+val2[1])*25 + (2+val2[2])*5 + (2+val2[3])\n",
    "      key2 = (2+val2[3])*125 + (2+val2[2])*25 + (2+val2[1])*5 + (2+val2[0])\n",
    "      k2 = int(min(key1, key2))\n",
    "      dist = diff[fr_num][k1][k2]\n",
    "      dist = int(dist*255/1.241650540494335)\n",
    "      new_frame[i][j] = dist\n",
    "  return new_frame\n",
    "\n",
    "newframe = generateHeatMap(resids[0][244], resids[0][244], 244)"
   ]
  },
  {
   "cell_type": "code",
   "execution_count": 67,
   "metadata": {},
   "outputs": [
    {
     "name": "stdout",
     "output_type": "stream",
     "text": [
      "[[  3.   0.   4. ...   2.  13.   4.]\n",
      " [255. 255.   2. ...  48.  48.  12.]\n",
      " [  8.   1.   0. ...  27.  49.  43.]\n",
      " ...\n",
      " [  8.   1.   8. ...  43.  48. 255.]\n",
      " [  8.   0.   1. ...   0.   4.   7.]\n",
      " [ 13.  14.   0. ...   1.   0.   2.]]\n"
     ]
    }
   ],
   "source": [
    "print(newframe)"
   ]
  },
  {
   "cell_type": "code",
   "execution_count": 11,
   "metadata": {},
   "outputs": [
    {
     "ename": "NameError",
     "evalue": "name 'newframe' is not defined",
     "output_type": "error",
     "traceback": [
      "\u001b[0;31m---------------------------------------------------------------------------\u001b[0m",
      "\u001b[0;31mNameError\u001b[0m                                 Traceback (most recent call last)",
      "Cell \u001b[0;32mIn[11], line 1\u001b[0m\n\u001b[0;32m----> 1\u001b[0m cv2\u001b[39m.\u001b[39mimshow(\u001b[39m\"\u001b[39m\u001b[39mframe\u001b[39m\u001b[39m\"\u001b[39m, newframe)\n\u001b[1;32m      2\u001b[0m cv2\u001b[39m.\u001b[39mwaitKey(\u001b[39m0\u001b[39m)\n\u001b[1;32m      3\u001b[0m cv2\u001b[39m.\u001b[39mdestroyAllWindows()\n",
      "\u001b[0;31mNameError\u001b[0m: name 'newframe' is not defined"
     ]
    }
   ],
   "source": [
    "cv2.imshow(\"frame\", newframe)\n",
    "cv2.waitKey(0)\n",
    "cv2.destroyAllWindows()"
   ]
  },
  {
   "attachments": {},
   "cell_type": "markdown",
   "metadata": {},
   "source": [
    "### Finding residual step wise of a windows\n"
   ]
  },
  {
   "cell_type": "code",
   "execution_count": 89,
   "metadata": {},
   "outputs": [
    {
     "name": "stdout",
     "output_type": "stream",
     "text": [
      "0\n"
     ]
    }
   ],
   "source": [
    "broke = False\n",
    "for f in range(videoFrames.shape[0]):\n",
    "  print(f)\n",
    "  for i in range(num_winw):\n",
    "    for j in range(num_winh):\n",
    "      # window = videoFrames[f, j*step_size:j*step_size+window_size[0], i*step_size:i*step_size+window_size[1], :]\n",
    "      window = videoFrames[f, :, :, :]\n",
    "      try:\n",
    "        descriptor = compute_descriptor(window)\n",
    "      except Exception as error:\n",
    "        descriptor = True\n",
    "        print(error)\n",
    "        print(\"Error in frame {}, window {}, {}\".format(f, i, j))\n",
    "      if descriptor:\n",
    "        broke = True\n",
    "        break\n",
    "    if broke:\n",
    "      break\n",
    "  if broke:\n",
    "    break\n",
    "cv2.destroyAllWindows()"
   ]
  },
  {
   "attachments": {},
   "cell_type": "markdown",
   "metadata": {},
   "source": [
    "### Destroy windows\n"
   ]
  },
  {
   "cell_type": "code",
   "execution_count": 31,
   "metadata": {},
   "outputs": [],
   "source": [
    "cv2.destroyAllWindows()"
   ]
  }
 ],
 "metadata": {
  "kernelspec": {
   "display_name": "Python 3",
   "language": "python",
   "name": "python3"
  },
  "language_info": {
   "codemirror_mode": {
    "name": "ipython",
    "version": 3
   },
   "file_extension": ".py",
   "mimetype": "text/x-python",
   "name": "python",
   "nbconvert_exporter": "python",
   "pygments_lexer": "ipython3",
   "version": "3.10.6"
  },
  "orig_nbformat": 4
 },
 "nbformat": 4,
 "nbformat_minor": 2
}
