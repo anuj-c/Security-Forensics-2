{
 "cells": [
  {
   "cell_type": "code",
   "execution_count": 1,
   "metadata": {},
   "outputs": [],
   "source": [
    "import wave\n",
    "import numpy as np\n",
    "import matplotlib.pyplot as plt\n",
    "import struct\n",
    "import sys\n",
    "import random\n",
    "from scipy.io import wavfile"
   ]
  },
  {
   "cell_type": "code",
   "execution_count": 2,
   "metadata": {},
   "outputs": [],
   "source": [
    "file_path = 'cover_audio.wav'\n",
    "rate, frame_bytes = wavfile.read(file_path)"
   ]
  },
  {
   "cell_type": "code",
   "execution_count": 3,
   "metadata": {},
   "outputs": [],
   "source": [
    "frame_bytes = frame_bytes.T\n",
    "frame_len = frame_bytes.shape[1]"
   ]
  },
  {
   "cell_type": "code",
   "execution_count": 4,
   "metadata": {},
   "outputs": [
    {
     "name": "stdout",
     "output_type": "stream",
     "text": [
      "15888 34 0000000001110000 112\n"
     ]
    }
   ],
   "source": [
    "key = input(\"Enter the secret key: \")\n",
    "msg = input(\"Enter the message to hide: \")\n",
    "msg = msg + \"$\"\n",
    "msgInBinary = ''.join([format(ord(i), \"08b\") for i in msg])\n",
    "msgLen = len(msgInBinary) + 16\n",
    "msgLen = format(msgLen, \"16b\")\n",
    "msgInBinary = msgLen.replace(' ', '0') + msgInBinary\n",
    "a = int(key[:len(key)//2]) % ( frame_len // 2)\n",
    "step = int(key[len(key)//2:])\n",
    "random.seed(step)\n",
    "if frame_len < len(msgInBinary):\n",
    "  print(\"Message too long\")\n",
    "  sys.exit(0)\n",
    "range = frame_len // len(msgInBinary)\n",
    "print(range, step, msgLen.replace(' ', '0'), int(msgLen, 2))\n",
    "step = random.randint(1,range)"
   ]
  },
  {
   "cell_type": "code",
   "execution_count": 5,
   "metadata": {},
   "outputs": [
    {
     "name": "stdout",
     "output_type": "stream",
     "text": [
      "Message hidden successfully\n"
     ]
    }
   ],
   "source": [
    "strIdx = 0\n",
    "i = a\n",
    "while strIdx < len(msgInBinary):\n",
    "  if i >= frame_len:\n",
    "    break\n",
    "  frame_bytes[0][i] = int(bin(frame_bytes[0][i])[:-1] + msgInBinary[strIdx], 2)\n",
    "  strIdx += 1\n",
    "  if strIdx < 16:\n",
    "    i += 1\n",
    "  else:\n",
    "    i += step\n",
    "    random.seed(step)\n",
    "    step = random.randint(1,range)\n",
    "if strIdx < len(msgInBinary):\n",
    "  print(\"Message too long to hide in audio\")\n",
    "else:\n",
    "  wavfile.write(\"stego_audio.wav\", rate, frame_bytes.T)\n",
    "  print(\"Message hidden successfully\")"
   ]
  },
  {
   "cell_type": "code",
   "execution_count": 6,
   "metadata": {},
   "outputs": [],
   "source": [
    "rate, secret_file = wavfile.read(\"stego_audio.wav\")\n",
    "secret_bytes = secret_file.T\n",
    "secret_len = len(secret_bytes[0])\n"
   ]
  },
  {
   "cell_type": "code",
   "execution_count": 7,
   "metadata": {},
   "outputs": [],
   "source": [
    "key = \"1234\""
   ]
  },
  {
   "cell_type": "code",
   "execution_count": 8,
   "metadata": {},
   "outputs": [
    {
     "name": "stdout",
     "output_type": "stream",
     "text": [
      "15888 8667 0000000001110000 112\n",
      "Extracted message:  11\n"
     ]
    }
   ],
   "source": [
    "# key = input(\"key: \")\n",
    "ex_msg = \"\"\n",
    "temp_msg = \"\"\n",
    "i = int(key[:len(key)//2]) % ( secret_len // 2)\n",
    "msgLen = \"\"\n",
    "step = int(key[len(key)//2:])\n",
    "random.seed(step)\n",
    "while i < secret_len:\n",
    "  msgLen += str(secret_bytes[0][i] & 1)\n",
    "  if len(msgLen) == 16:\n",
    "    break\n",
    "  i += 1\n",
    "range = secret_len // int(msgLen, 2)\n",
    "step = random.randint(1,range)\n",
    "print(range, step, msgLen, int(msgLen, 2))\n",
    "i += step\n",
    "random.seed(step)\n",
    "step = random.randint(1,range)\n",
    "while i < secret_len:\n",
    "  # if secret_bytes[0][i] > 63:\n",
    "  temp_msg += str(secret_bytes[0][i] & 1)\n",
    "  if len(temp_msg) == 8:\n",
    "    if chr(int(temp_msg, 2)) == \"$\":\n",
    "      break\n",
    "    ex_msg += chr(int(temp_msg, 2))\n",
    "    temp_msg = \"\"\n",
    "  i += step\n",
    "  random.seed(step)\n",
    "  step = random.randint(1,range)\n",
    "print(\"Extracted message: \", len(ex_msg))"
   ]
  },
  {
   "cell_type": "code",
   "execution_count": 9,
   "metadata": {},
   "outputs": [
    {
     "data": {
      "text/plain": [
       "'hello world'"
      ]
     },
     "execution_count": 9,
     "metadata": {},
     "output_type": "execute_result"
    }
   ],
   "source": [
    "ex_msg"
   ]
  }
 ],
 "metadata": {
  "kernelspec": {
   "display_name": "Python 3",
   "language": "python",
   "name": "python3"
  },
  "language_info": {
   "codemirror_mode": {
    "name": "ipython",
    "version": 3
   },
   "file_extension": ".py",
   "mimetype": "text/x-python",
   "name": "python",
   "nbconvert_exporter": "python",
   "pygments_lexer": "ipython3",
   "version": "3.10.6"
  },
  "orig_nbformat": 4,
  "vscode": {
   "interpreter": {
    "hash": "916dbcbb3f70747c44a77c7bcd40155683ae19c65e1c03b4aa3499c5328201f1"
   }
  }
 },
 "nbformat": 4,
 "nbformat_minor": 2
}
