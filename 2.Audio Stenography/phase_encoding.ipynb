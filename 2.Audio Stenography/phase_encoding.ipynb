{
 "cells": [
  {
   "cell_type": "code",
   "execution_count": 1,
   "metadata": {},
   "outputs": [],
   "source": [
    "import wave\n",
    "import numpy as np\n",
    "from scipy.io import wavfile"
   ]
  },
  {
   "cell_type": "code",
   "execution_count": 2,
   "metadata": {},
   "outputs": [
    {
     "name": "stdout",
     "output_type": "stream",
     "text": [
      "[[  0   0]\n",
      " [  0   0]\n",
      " [  0   0]\n",
      " ...\n",
      " [-13 -14]\n",
      " [-13 -14]\n",
      " [-13 -14]]\n",
      "(481489, 2)\n"
     ]
    }
   ],
   "source": [
    "audioPath = \"audio.wav\"\n",
    "msg = input(\"enter\")\n",
    "msg += \"$\"\n",
    "msgInBinary = ''.join([format(ord(i), \"08b\") for i in msg])\n",
    "rate, audioFile = wavfile.read(audioPath)\n",
    "audioFile = audioFile.copy()\n",
    "print(audioFile)\n",
    "print(audioFile.shape)"
   ]
  },
  {
   "cell_type": "code",
   "execution_count": 3,
   "metadata": {},
   "outputs": [
    {
     "name": "stdout",
     "output_type": "stream",
     "text": [
      "5016 96\n"
     ]
    }
   ],
   "source": [
    "chunkSize = len(msgInBinary)\n",
    "nChunks = int(np.ceil(audioFile.shape[0] / chunkSize))\n",
    "print(nChunks, chunkSize)"
   ]
  },
  {
   "cell_type": "code",
   "execution_count": 4,
   "metadata": {},
   "outputs": [],
   "source": [
    "if len(audioFile.shape) == 1:\n",
    "  audioFile.resize(nChunks * chunkSize, refcheck=False)\n",
    "  audioFile = audioFile[np.newaxis]\n",
    "else:\n",
    "  audioFile.resize((nChunks * chunkSize, audioFile.shape[1]), refcheck=False)\n",
    "  audioFile = audioFile.T\n",
    "chunks = audioFile[0].reshape((nChunks, chunkSize))"
   ]
  },
  {
   "cell_type": "code",
   "execution_count": 5,
   "metadata": {},
   "outputs": [],
   "source": [
    "chunks = np.fft.fft(chunks)\n",
    "phases = np.angle(chunks)\n",
    "magnitudes = np.abs(chunks)\n",
    "phaseDiff = np.diff(phases, axis=0)\n",
    "nmsgInBinary = [-1 if i == '0' else 1 for i in msgInBinary]\n",
    "nmsgInBinary = np.array(nmsgInBinary)\n",
    "nmsgInBinary = nmsgInBinary * -np.pi / 2"
   ]
  },
  {
   "cell_type": "code",
   "execution_count": 6,
   "metadata": {},
   "outputs": [
    {
     "name": "stdout",
     "output_type": "stream",
     "text": [
      "(-0.2073448001688729-1.0480101015611956j)\n",
      "-1.7661200552592655\n",
      "-1.7661200552592655\n",
      "1.068324407252487\n",
      "(-0.207344800168873-1.0480101015611956j)\n"
     ]
    }
   ],
   "source": [
    "print(chunks[0][1])\n",
    "print(phases[0][1])\n",
    "print(np.angle(chunks[0][1]))\n",
    "print(magnitudes[0][1])\n",
    "print(magnitudes[0][1] * np.exp(1j * phases[0][1]))\n",
    "\n",
    "# change phase of chunks[0][1]\n"
   ]
  },
  {
   "cell_type": "code",
   "execution_count": 7,
   "metadata": {},
   "outputs": [
    {
     "name": "stdout",
     "output_type": "stream",
     "text": [
      "[ 1.57079633 -1.57079633 -1.57079633  1.57079633 -1.57079633  1.57079633\n",
      "  1.57079633  1.57079633  1.57079633 -1.57079633 -1.57079633  1.57079633\n",
      "  1.57079633 -1.57079633  1.57079633 -1.57079633  1.57079633 -1.57079633\n",
      " -1.57079633  1.57079633 -1.57079633 -1.57079633  1.57079633  1.57079633\n",
      "  1.57079633 -1.57079633 -1.57079633  1.57079633 -1.57079633 -1.57079633\n",
      "  1.57079633  1.57079633  1.57079633 -1.57079633 -1.57079633  1.57079633\n",
      " -1.57079633 -1.57079633 -1.57079633 -1.57079633  1.57079633  1.57079633\n",
      " -1.57079633  1.57079633  1.57079633  1.57079633  1.57079633  1.57079633\n",
      "  1.57079633 -1.57079633 -1.57079633 -1.57079633  1.57079633 -1.57079633\n",
      " -1.57079633 -1.57079633  1.57079633 -1.57079633 -1.57079633  1.57079633\n",
      " -1.57079633 -1.57079633 -1.57079633 -1.57079633  1.57079633 -1.57079633\n",
      " -1.57079633 -1.57079633  1.57079633  1.57079633 -1.57079633  1.57079633\n",
      "  1.57079633 -1.57079633 -1.57079633  1.57079633 -1.57079633 -1.57079633\n",
      "  1.57079633  1.57079633  1.57079633 -1.57079633 -1.57079633  1.57079633\n",
      "  1.57079633 -1.57079633  1.57079633  1.57079633  1.57079633  1.57079633\n",
      " -1.57079633  1.57079633  1.57079633 -1.57079633  1.57079633  1.57079633]\n"
     ]
    }
   ],
   "source": [
    "phases[0] = nmsgInBinary\n",
    "print(phases[0])\n",
    "# for i in range(1, len(phases)):\n",
    "#   phases[i] = phases[i-1] + phaseDiff[i-1]"
   ]
  },
  {
   "cell_type": "code",
   "execution_count": 12,
   "metadata": {},
   "outputs": [
    {
     "name": "stdout",
     "output_type": "stream",
     "text": [
      "(0.5403023058681398+0.8414709848078965j)\n"
     ]
    }
   ],
   "source": [
    "print(np.exp(1j))"
   ]
  },
  {
   "cell_type": "code",
   "execution_count": 8,
   "metadata": {},
   "outputs": [],
   "source": [
    "chunks = magnitudes * np.exp(1j * phases)\n",
    "chunks = np.fft.ifft(chunks).real\n",
    "audioFile[0] = chunks.ravel().astype(np.int16)\n",
    "wavfile.write(\"output.wav\", rate, audioFile.T)"
   ]
  },
  {
   "cell_type": "code",
   "execution_count": 9,
   "metadata": {},
   "outputs": [],
   "source": [
    "rate2, en_file2 = wavfile.read(\"output.wav\")\n",
    "chunkSize2 = len(msgInBinary)"
   ]
  },
  {
   "cell_type": "code",
   "execution_count": 10,
   "metadata": {},
   "outputs": [
    {
     "data": {
      "text/plain": [
       "array([0., 0., 0., 0., 0., 0., 0., 0., 0., 0., 0., 0., 0., 0., 0., 0., 0.,\n",
       "       0., 0., 0., 0., 0., 0., 0., 0., 0., 0., 0., 0., 0., 0., 0., 0., 0.,\n",
       "       0., 0., 0., 0., 0., 0., 0., 0., 0., 0., 0., 0., 0., 0., 0., 0., 0.,\n",
       "       0., 0., 0., 0., 0., 0., 0., 0., 0., 0., 0., 0., 0., 0., 0., 0., 0.,\n",
       "       0., 0., 0., 0., 0., 0., 0., 0., 0., 0., 0., 0., 0., 0., 0., 0., 0.,\n",
       "       0., 0., 0., 0., 0., 0., 0., 0., 0., 0., 0.])"
      ]
     },
     "execution_count": 10,
     "metadata": {},
     "output_type": "execute_result"
    }
   ],
   "source": [
    "code2 = np.fft.fft(en_file2)\n",
    "phases2 = np.angle(code2)\n",
    "phases2 = phases2.T\n",
    "phases2 = phases2[0, :chunkSize]\n",
    "phases2\n",
    "# codeBin2 = (phases2 < 0).astype(np.int16)\n",
    "# codeInIntCode2 = codeBin2.reshape((-1, 8)).dot(1 << np.arange(8 - 1, -1, -1))"
   ]
  },
  {
   "cell_type": "code",
   "execution_count": 11,
   "metadata": {},
   "outputs": [
    {
     "data": {
      "text/plain": [
       "array([0., 0., 0., 0., 0., 0., 0., 0., 0., 0., 0., 0., 0., 0., 0., 0., 0.,\n",
       "       0., 0., 0., 0., 0., 0., 0., 0., 0., 0., 0., 0., 0., 0., 0., 0., 0.,\n",
       "       0., 0., 0., 0., 0., 0., 0., 0., 0., 0., 0., 0., 0., 0., 0., 0., 0.,\n",
       "       0., 0., 0., 0., 0., 0., 0., 0., 0., 0., 0., 0., 0., 0., 0., 0., 0.,\n",
       "       0., 0., 0., 0., 0., 0., 0., 0., 0., 0., 0., 0., 0., 0., 0., 0., 0.,\n",
       "       0., 0., 0., 0., 0., 0., 0., 0., 0., 0., 0.])"
      ]
     },
     "execution_count": 11,
     "metadata": {},
     "output_type": "execute_result"
    }
   ],
   "source": [
    "phases2"
   ]
  },
  {
   "cell_type": "code",
   "execution_count": 22,
   "metadata": {},
   "outputs": [
    {
     "name": "stdout",
     "output_type": "stream",
     "text": [
      "001011010011011011010100101101101100100101010010010110101011011001001001011010100100100110100101\n",
      "011010000110010101101100011011000110111100100000011101110110111101110010011011000110010000100100\n"
     ]
    }
   ],
   "source": [
    "print(\"\".join([str(i) for i in codeBin2]))\n",
    "print(msgInBinary)"
   ]
  },
  {
   "cell_type": "code",
   "execution_count": null,
   "metadata": {},
   "outputs": [],
   "source": [
    "# plot graph of phases\n",
    "import matplotlib.pyplot as plt\n",
    "#  width of plot\n",
    "plt.figure(figsize=(20, 10))\n",
    "# plot phases2 over it\n",
    "plt.plot(phases2)\n",
    "plt.plot(phases[0])\n",
    "plt.show()"
   ]
  },
  {
   "cell_type": "code",
   "execution_count": 16,
   "metadata": {},
   "outputs": [
    {
     "name": "stdout",
     "output_type": "stream",
     "text": [
      "-6Ô¶ÉRZ¶IjI¥\n"
     ]
    }
   ],
   "source": [
    "print(\"\".join(np.char.mod(\"%c\", codeInIntCode2)).replace(\"~\", \"\"))"
   ]
  }
 ],
 "metadata": {
  "kernelspec": {
   "display_name": "Python 3",
   "language": "python",
   "name": "python3"
  },
  "language_info": {
   "codemirror_mode": {
    "name": "ipython",
    "version": 3
   },
   "file_extension": ".py",
   "mimetype": "text/x-python",
   "name": "python",
   "nbconvert_exporter": "python",
   "pygments_lexer": "ipython3",
   "version": "3.10.6 (main, Nov 14 2022, 16:10:14) [GCC 11.3.0]"
  },
  "orig_nbformat": 4,
  "vscode": {
   "interpreter": {
    "hash": "916dbcbb3f70747c44a77c7bcd40155683ae19c65e1c03b4aa3499c5328201f1"
   }
  }
 },
 "nbformat": 4,
 "nbformat_minor": 2
}
